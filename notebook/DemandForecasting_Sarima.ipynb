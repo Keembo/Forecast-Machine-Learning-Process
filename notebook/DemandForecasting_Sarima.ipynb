{
 "cells": [
  {
   "cell_type": "markdown",
   "metadata": {},
   "source": [
    "# Demand Forecasting Model"
   ]
  },
  {
   "cell_type": "code",
   "execution_count": 1,
   "metadata": {},
   "outputs": [],
   "source": [
    "#import models needed for machine learning algorhithms\n",
    "import pandas as pd"
   ]
  },
  {
   "cell_type": "code",
   "execution_count": 6,
   "metadata": {},
   "outputs": [
    {
     "data": {
      "text/html": [
       "<div>\n",
       "<style scoped>\n",
       "    .dataframe tbody tr th:only-of-type {\n",
       "        vertical-align: middle;\n",
       "    }\n",
       "\n",
       "    .dataframe tbody tr th {\n",
       "        vertical-align: top;\n",
       "    }\n",
       "\n",
       "    .dataframe thead th {\n",
       "        text-align: right;\n",
       "    }\n",
       "</style>\n",
       "<table border=\"1\" class=\"dataframe\">\n",
       "  <thead>\n",
       "    <tr style=\"text-align: right;\">\n",
       "      <th></th>\n",
       "      <th>Type</th>\n",
       "      <th>Days for shipping (real)</th>\n",
       "      <th>Days for shipment (scheduled)</th>\n",
       "      <th>Benefit per order</th>\n",
       "      <th>Sales per customer</th>\n",
       "      <th>Delivery Status</th>\n",
       "      <th>Late_delivery_risk</th>\n",
       "      <th>Category Id</th>\n",
       "      <th>Category Name</th>\n",
       "      <th>Customer City</th>\n",
       "      <th>...</th>\n",
       "      <th>Order Zipcode</th>\n",
       "      <th>Product Card Id</th>\n",
       "      <th>Product Category Id</th>\n",
       "      <th>Product Description</th>\n",
       "      <th>Product Image</th>\n",
       "      <th>Product Name</th>\n",
       "      <th>Product Price</th>\n",
       "      <th>Product Status</th>\n",
       "      <th>shipping date (DateOrders)</th>\n",
       "      <th>Shipping Mode</th>\n",
       "    </tr>\n",
       "  </thead>\n",
       "  <tbody>\n",
       "    <tr>\n",
       "      <th>0</th>\n",
       "      <td>DEBIT</td>\n",
       "      <td>3</td>\n",
       "      <td>4</td>\n",
       "      <td>91.250000</td>\n",
       "      <td>314.640015</td>\n",
       "      <td>Advance shipping</td>\n",
       "      <td>0</td>\n",
       "      <td>73</td>\n",
       "      <td>Sporting Goods</td>\n",
       "      <td>Caguas</td>\n",
       "      <td>...</td>\n",
       "      <td>NaN</td>\n",
       "      <td>1360</td>\n",
       "      <td>73</td>\n",
       "      <td>NaN</td>\n",
       "      <td>http://images.acmesports.sports/Smart+watch</td>\n",
       "      <td>Smart watch</td>\n",
       "      <td>327.75</td>\n",
       "      <td>0</td>\n",
       "      <td>2/3/2018 22:56</td>\n",
       "      <td>Standard Class</td>\n",
       "    </tr>\n",
       "    <tr>\n",
       "      <th>1</th>\n",
       "      <td>TRANSFER</td>\n",
       "      <td>5</td>\n",
       "      <td>4</td>\n",
       "      <td>-249.089996</td>\n",
       "      <td>311.359985</td>\n",
       "      <td>Late delivery</td>\n",
       "      <td>1</td>\n",
       "      <td>73</td>\n",
       "      <td>Sporting Goods</td>\n",
       "      <td>Caguas</td>\n",
       "      <td>...</td>\n",
       "      <td>NaN</td>\n",
       "      <td>1360</td>\n",
       "      <td>73</td>\n",
       "      <td>NaN</td>\n",
       "      <td>http://images.acmesports.sports/Smart+watch</td>\n",
       "      <td>Smart watch</td>\n",
       "      <td>327.75</td>\n",
       "      <td>0</td>\n",
       "      <td>1/18/2018 12:27</td>\n",
       "      <td>Standard Class</td>\n",
       "    </tr>\n",
       "    <tr>\n",
       "      <th>2</th>\n",
       "      <td>CASH</td>\n",
       "      <td>4</td>\n",
       "      <td>4</td>\n",
       "      <td>-247.779999</td>\n",
       "      <td>309.720001</td>\n",
       "      <td>Shipping on time</td>\n",
       "      <td>0</td>\n",
       "      <td>73</td>\n",
       "      <td>Sporting Goods</td>\n",
       "      <td>San Jose</td>\n",
       "      <td>...</td>\n",
       "      <td>NaN</td>\n",
       "      <td>1360</td>\n",
       "      <td>73</td>\n",
       "      <td>NaN</td>\n",
       "      <td>http://images.acmesports.sports/Smart+watch</td>\n",
       "      <td>Smart watch</td>\n",
       "      <td>327.75</td>\n",
       "      <td>0</td>\n",
       "      <td>1/17/2018 12:06</td>\n",
       "      <td>Standard Class</td>\n",
       "    </tr>\n",
       "    <tr>\n",
       "      <th>3</th>\n",
       "      <td>DEBIT</td>\n",
       "      <td>3</td>\n",
       "      <td>4</td>\n",
       "      <td>22.860001</td>\n",
       "      <td>304.809998</td>\n",
       "      <td>Advance shipping</td>\n",
       "      <td>0</td>\n",
       "      <td>73</td>\n",
       "      <td>Sporting Goods</td>\n",
       "      <td>Los Angeles</td>\n",
       "      <td>...</td>\n",
       "      <td>NaN</td>\n",
       "      <td>1360</td>\n",
       "      <td>73</td>\n",
       "      <td>NaN</td>\n",
       "      <td>http://images.acmesports.sports/Smart+watch</td>\n",
       "      <td>Smart watch</td>\n",
       "      <td>327.75</td>\n",
       "      <td>0</td>\n",
       "      <td>1/16/2018 11:45</td>\n",
       "      <td>Standard Class</td>\n",
       "    </tr>\n",
       "    <tr>\n",
       "      <th>4</th>\n",
       "      <td>PAYMENT</td>\n",
       "      <td>2</td>\n",
       "      <td>4</td>\n",
       "      <td>134.210007</td>\n",
       "      <td>298.250000</td>\n",
       "      <td>Advance shipping</td>\n",
       "      <td>0</td>\n",
       "      <td>73</td>\n",
       "      <td>Sporting Goods</td>\n",
       "      <td>Caguas</td>\n",
       "      <td>...</td>\n",
       "      <td>NaN</td>\n",
       "      <td>1360</td>\n",
       "      <td>73</td>\n",
       "      <td>NaN</td>\n",
       "      <td>http://images.acmesports.sports/Smart+watch</td>\n",
       "      <td>Smart watch</td>\n",
       "      <td>327.75</td>\n",
       "      <td>0</td>\n",
       "      <td>1/15/2018 11:24</td>\n",
       "      <td>Standard Class</td>\n",
       "    </tr>\n",
       "  </tbody>\n",
       "</table>\n",
       "<p>5 rows × 53 columns</p>\n",
       "</div>"
      ],
      "text/plain": [
       "       Type  Days for shipping (real)  Days for shipment (scheduled)  \\\n",
       "0     DEBIT                         3                              4   \n",
       "1  TRANSFER                         5                              4   \n",
       "2      CASH                         4                              4   \n",
       "3     DEBIT                         3                              4   \n",
       "4   PAYMENT                         2                              4   \n",
       "\n",
       "   Benefit per order  Sales per customer   Delivery Status  \\\n",
       "0          91.250000          314.640015  Advance shipping   \n",
       "1        -249.089996          311.359985     Late delivery   \n",
       "2        -247.779999          309.720001  Shipping on time   \n",
       "3          22.860001          304.809998  Advance shipping   \n",
       "4         134.210007          298.250000  Advance shipping   \n",
       "\n",
       "   Late_delivery_risk  Category Id   Category Name Customer City  ...  \\\n",
       "0                   0           73  Sporting Goods        Caguas  ...   \n",
       "1                   1           73  Sporting Goods        Caguas  ...   \n",
       "2                   0           73  Sporting Goods      San Jose  ...   \n",
       "3                   0           73  Sporting Goods   Los Angeles  ...   \n",
       "4                   0           73  Sporting Goods        Caguas  ...   \n",
       "\n",
       "  Order Zipcode Product Card Id Product Category Id  Product Description  \\\n",
       "0           NaN            1360                  73                  NaN   \n",
       "1           NaN            1360                  73                  NaN   \n",
       "2           NaN            1360                  73                  NaN   \n",
       "3           NaN            1360                  73                  NaN   \n",
       "4           NaN            1360                  73                  NaN   \n",
       "\n",
       "                                  Product Image  Product Name Product Price  \\\n",
       "0  http://images.acmesports.sports/Smart+watch   Smart watch         327.75   \n",
       "1  http://images.acmesports.sports/Smart+watch   Smart watch         327.75   \n",
       "2  http://images.acmesports.sports/Smart+watch   Smart watch         327.75   \n",
       "3  http://images.acmesports.sports/Smart+watch   Smart watch         327.75   \n",
       "4  http://images.acmesports.sports/Smart+watch   Smart watch         327.75   \n",
       "\n",
       "  Product Status shipping date (DateOrders)   Shipping Mode  \n",
       "0              0             2/3/2018 22:56  Standard Class  \n",
       "1              0            1/18/2018 12:27  Standard Class  \n",
       "2              0            1/17/2018 12:06  Standard Class  \n",
       "3              0            1/16/2018 11:45  Standard Class  \n",
       "4              0            1/15/2018 11:24  Standard Class  \n",
       "\n",
       "[5 rows x 53 columns]"
      ]
     },
     "execution_count": 6,
     "metadata": {},
     "output_type": "execute_result"
    }
   ],
   "source": [
    "# import/load the dataset\n",
    "file = r'/home/keembo/pacmann_project/data/DataCoSupplyChainDataset.csv'\n",
    "data = pd.read_csv(file, encoding='latin1')\n",
    "\n",
    "# Display first few rows\n",
    "data.head()\n"
   ]
  },
  {
   "cell_type": "code",
   "execution_count": 7,
   "metadata": {},
   "outputs": [
    {
     "name": "stdout",
     "output_type": "stream",
     "text": [
      "Type                              object\n",
      "Days for shipping (real)           int64\n",
      "Days for shipment (scheduled)      int64\n",
      "Benefit per order                float64\n",
      "Sales per customer               float64\n",
      "Delivery Status                   object\n",
      "Late_delivery_risk                 int64\n",
      "Category Id                        int64\n",
      "Category Name                     object\n",
      "Customer City                     object\n",
      "Customer Country                  object\n",
      "Customer Email                    object\n",
      "Customer Fname                    object\n",
      "Customer Id                        int64\n",
      "Customer Lname                    object\n",
      "Customer Password                 object\n",
      "Customer Segment                  object\n",
      "Customer State                    object\n",
      "Customer Street                   object\n",
      "Customer Zipcode                 float64\n",
      "Department Id                      int64\n",
      "Department Name                   object\n",
      "Latitude                         float64\n",
      "Longitude                        float64\n",
      "Market                            object\n",
      "Order City                        object\n",
      "Order Country                     object\n",
      "Order Customer Id                  int64\n",
      "order date (DateOrders)           object\n",
      "Order Id                           int64\n",
      "Order Item Cardprod Id             int64\n",
      "Order Item Discount              float64\n",
      "Order Item Discount Rate         float64\n",
      "Order Item Id                      int64\n",
      "Order Item Product Price         float64\n",
      "Order Item Profit Ratio          float64\n",
      "Order Item Quantity                int64\n",
      "Sales                            float64\n",
      "Order Item Total                 float64\n",
      "Order Profit Per Order           float64\n",
      "Order Region                      object\n",
      "Order State                       object\n",
      "Order Status                      object\n",
      "Order Zipcode                    float64\n",
      "Product Card Id                    int64\n",
      "Product Category Id                int64\n",
      "Product Description              float64\n",
      "Product Image                     object\n",
      "Product Name                      object\n",
      "Product Price                    float64\n",
      "Product Status                     int64\n",
      "shipping date (DateOrders)        object\n",
      "Shipping Mode                     object\n",
      "dtype: object\n"
     ]
    },
    {
     "data": {
      "text/plain": [
       "Type                                  0\n",
       "Days for shipping (real)              0\n",
       "Days for shipment (scheduled)         0\n",
       "Benefit per order                     0\n",
       "Sales per customer                    0\n",
       "Delivery Status                       0\n",
       "Late_delivery_risk                    0\n",
       "Category Id                           0\n",
       "Category Name                         0\n",
       "Customer City                         0\n",
       "Customer Country                      0\n",
       "Customer Email                        0\n",
       "Customer Fname                        0\n",
       "Customer Id                           0\n",
       "Customer Lname                        8\n",
       "Customer Password                     0\n",
       "Customer Segment                      0\n",
       "Customer State                        0\n",
       "Customer Street                       0\n",
       "Customer Zipcode                      3\n",
       "Department Id                         0\n",
       "Department Name                       0\n",
       "Latitude                              0\n",
       "Longitude                             0\n",
       "Market                                0\n",
       "Order City                            0\n",
       "Order Country                         0\n",
       "Order Customer Id                     0\n",
       "order date (DateOrders)               0\n",
       "Order Id                              0\n",
       "Order Item Cardprod Id                0\n",
       "Order Item Discount                   0\n",
       "Order Item Discount Rate              0\n",
       "Order Item Id                         0\n",
       "Order Item Product Price              0\n",
       "Order Item Profit Ratio               0\n",
       "Order Item Quantity                   0\n",
       "Sales                                 0\n",
       "Order Item Total                      0\n",
       "Order Profit Per Order                0\n",
       "Order Region                          0\n",
       "Order State                           0\n",
       "Order Status                          0\n",
       "Order Zipcode                    155679\n",
       "Product Card Id                       0\n",
       "Product Category Id                   0\n",
       "Product Description              180519\n",
       "Product Image                         0\n",
       "Product Name                          0\n",
       "Product Price                         0\n",
       "Product Status                        0\n",
       "shipping date (DateOrders)            0\n",
       "Shipping Mode                         0\n",
       "dtype: int64"
      ]
     },
     "execution_count": 7,
     "metadata": {},
     "output_type": "execute_result"
    }
   ],
   "source": [
    "#check for the datatypes\n",
    "data_types = data.dtypes\n",
    "\n",
    "#check for missing values\n",
    "missing_values = data.isnull().sum()\n",
    "\n",
    "#show results\n",
    "print(data_types)\n",
    "missing_values"
   ]
  },
  {
   "cell_type": "markdown",
   "metadata": {},
   "source": [
    "### Data Processing"
   ]
  },
  {
   "cell_type": "code",
   "execution_count": 8,
   "metadata": {},
   "outputs": [
    {
     "data": {
      "text/plain": [
       "Product Description    1.000000\n",
       "Order Zipcode          0.862397\n",
       "Customer Lname         0.000044\n",
       "Customer Zipcode       0.000017\n",
       "dtype: float64"
      ]
     },
     "execution_count": 8,
     "metadata": {},
     "output_type": "execute_result"
    }
   ],
   "source": [
    "#Check missing values percentage over total number of rows in the dataframe\n",
    "missing_values_percentage = (missing_values / data.shape[0]) * 1\n",
    "#sort missing values percentage in descending order\n",
    "missing_values_percentage = missing_values_percentage.sort_values(ascending=False)\n",
    "#filter out 0 percentages\n",
    "missing_values_percentage = missing_values_percentage[missing_values_percentage!= 0]\n",
    "missing_values_percentage"
   ]
  },
  {
   "cell_type": "code",
   "execution_count": 9,
   "metadata": {},
   "outputs": [
    {
     "name": "stderr",
     "output_type": "stream",
     "text": [
      "/tmp/ipykernel_17353/1093585110.py:6: FutureWarning: Setting an item of incompatible dtype is deprecated and will raise in a future error of pandas. Value 'Unknown' has dtype incompatible with float64, please explicitly cast to a compatible dtype first.\n",
      "  data_cleaned['Customer Zipcode'].fillna(value='Unknown',inplace=True)\n"
     ]
    },
    {
     "data": {
      "text/plain": [
       "Type                             0\n",
       "Days for shipping (real)         0\n",
       "Days for shipment (scheduled)    0\n",
       "Benefit per order                0\n",
       "Sales per customer               0\n",
       "Delivery Status                  0\n",
       "Late_delivery_risk               0\n",
       "Category Id                      0\n",
       "Category Name                    0\n",
       "Customer City                    0\n",
       "Customer Country                 0\n",
       "Customer Email                   0\n",
       "Customer Fname                   0\n",
       "Customer Id                      0\n",
       "Customer Lname                   0\n",
       "Customer Password                0\n",
       "Customer Segment                 0\n",
       "Customer State                   0\n",
       "Customer Street                  0\n",
       "Customer Zipcode                 0\n",
       "Department Id                    0\n",
       "Department Name                  0\n",
       "Latitude                         0\n",
       "Longitude                        0\n",
       "Market                           0\n",
       "Order City                       0\n",
       "Order Country                    0\n",
       "Order Customer Id                0\n",
       "order date (DateOrders)          0\n",
       "Order Id                         0\n",
       "Order Item Cardprod Id           0\n",
       "Order Item Discount              0\n",
       "Order Item Discount Rate         0\n",
       "Order Item Id                    0\n",
       "Order Item Product Price         0\n",
       "Order Item Profit Ratio          0\n",
       "Order Item Quantity              0\n",
       "Sales                            0\n",
       "Order Item Total                 0\n",
       "Order Profit Per Order           0\n",
       "Order Region                     0\n",
       "Order State                      0\n",
       "Order Status                     0\n",
       "Product Card Id                  0\n",
       "Product Category Id              0\n",
       "Product Image                    0\n",
       "Product Name                     0\n",
       "Product Price                    0\n",
       "Product Status                   0\n",
       "shipping date (DateOrders)       0\n",
       "Shipping Mode                    0\n",
       "dtype: int64"
      ]
     },
     "execution_count": 9,
     "metadata": {},
     "output_type": "execute_result"
    }
   ],
   "source": [
    "# Drop the highest percentage of missing values in the dataset.\n",
    "data_cleaned = data.drop(['Product Description', 'Order Zipcode'], axis=1)\n",
    "\n",
    "# Impute missing values in undropped collumns with Unknown.\n",
    "data_cleaned['Customer Lname'].fillna(value='Unknown',inplace=True)\n",
    "data_cleaned['Customer Zipcode'].fillna(value='Unknown',inplace=True)\n",
    "\n",
    "# Check the cleaned data results\n",
    "data_cleaned.isnull().sum()"
   ]
  },
  {
   "cell_type": "code",
   "execution_count": 10,
   "metadata": {},
   "outputs": [
    {
     "data": {
      "text/plain": [
       "Type                                     object\n",
       "Days for shipping (real)                  int64\n",
       "Days for shipment (scheduled)             int64\n",
       "Benefit per order                       float64\n",
       "Sales per customer                      float64\n",
       "Delivery Status                          object\n",
       "Late_delivery_risk                        int64\n",
       "Category Id                               int64\n",
       "Category Name                            object\n",
       "Customer City                            object\n",
       "Customer Country                         object\n",
       "Customer Email                           object\n",
       "Customer Fname                           object\n",
       "Customer Id                               int64\n",
       "Customer Lname                           object\n",
       "Customer Password                        object\n",
       "Customer Segment                         object\n",
       "Customer State                           object\n",
       "Customer Street                          object\n",
       "Customer Zipcode                         object\n",
       "Department Id                             int64\n",
       "Department Name                          object\n",
       "Latitude                                float64\n",
       "Longitude                               float64\n",
       "Market                                   object\n",
       "Order City                               object\n",
       "Order Country                            object\n",
       "Order Customer Id                         int64\n",
       "order date (DateOrders)          datetime64[ns]\n",
       "Order Id                                  int64\n",
       "Order Item Cardprod Id                    int64\n",
       "Order Item Discount                     float64\n",
       "Order Item Discount Rate                float64\n",
       "Order Item Id                             int64\n",
       "Order Item Product Price                float64\n",
       "Order Item Profit Ratio                 float64\n",
       "Order Item Quantity                       int64\n",
       "Sales                                   float64\n",
       "Order Item Total                        float64\n",
       "Order Profit Per Order                  float64\n",
       "Order Region                             object\n",
       "Order State                              object\n",
       "Order Status                             object\n",
       "Product Card Id                           int64\n",
       "Product Category Id                       int64\n",
       "Product Image                            object\n",
       "Product Name                             object\n",
       "Product Price                           float64\n",
       "Product Status                            int64\n",
       "shipping date (DateOrders)       datetime64[ns]\n",
       "Shipping Mode                            object\n",
       "dtype: object"
      ]
     },
     "execution_count": 10,
     "metadata": {},
     "output_type": "execute_result"
    }
   ],
   "source": [
    "# Create a new dataframe for the transformed data\n",
    "data_trans = data_cleaned.copy()\n",
    "\n",
    "# Convert Date into datetime format\n",
    "data_trans['order date (DateOrders)'] = pd.to_datetime(data_trans['order date (DateOrders)'])\n",
    "data_trans['shipping date (DateOrders)'] = pd.to_datetime(data_trans['shipping date (DateOrders)'])\n",
    "\n",
    "# Verify that the OrderID column is of type string\n",
    "check_data_type = data_trans.dtypes\n",
    "check_data_type"
   ]
  },
  {
   "cell_type": "markdown",
   "metadata": {},
   "source": [
    "### Feature Engineering"
   ]
  },
  {
   "cell_type": "code",
   "execution_count": 18,
   "metadata": {},
   "outputs": [
    {
     "name": "stderr",
     "output_type": "stream",
     "text": [
      "/tmp/ipykernel_17353/891291036.py:13: SettingWithCopyWarning: \n",
      "A value is trying to be set on a copy of a slice from a DataFrame.\n",
      "Try using .loc[row_indexer,col_indexer] = value instead\n",
      "\n",
      "See the caveats in the documentation: https://pandas.pydata.org/pandas-docs/stable/user_guide/indexing.html#returning-a-view-versus-a-copy\n",
      "  aggregated_data['date'] = pd.to_datetime(aggregated_data['order_year'].astype(str) + '-' + aggregated_data['order_month'].astype(str))\n"
     ]
    },
    {
     "data": {
      "text/html": [
       "<div>\n",
       "<style scoped>\n",
       "    .dataframe tbody tr th:only-of-type {\n",
       "        vertical-align: middle;\n",
       "    }\n",
       "\n",
       "    .dataframe tbody tr th {\n",
       "        vertical-align: top;\n",
       "    }\n",
       "\n",
       "    .dataframe thead th {\n",
       "        text-align: right;\n",
       "    }\n",
       "</style>\n",
       "<table border=\"1\" class=\"dataframe\">\n",
       "  <thead>\n",
       "    <tr style=\"text-align: right;\">\n",
       "      <th></th>\n",
       "      <th>order_year</th>\n",
       "      <th>order_month</th>\n",
       "      <th>Order Item Quantity</th>\n",
       "    </tr>\n",
       "  </thead>\n",
       "  <tbody>\n",
       "    <tr>\n",
       "      <th>32</th>\n",
       "      <td>2017</td>\n",
       "      <td>9</td>\n",
       "      <td>10502</td>\n",
       "    </tr>\n",
       "    <tr>\n",
       "      <th>33</th>\n",
       "      <td>2017</td>\n",
       "      <td>10</td>\n",
       "      <td>2490</td>\n",
       "    </tr>\n",
       "    <tr>\n",
       "      <th>34</th>\n",
       "      <td>2017</td>\n",
       "      <td>11</td>\n",
       "      <td>2055</td>\n",
       "    </tr>\n",
       "    <tr>\n",
       "      <th>35</th>\n",
       "      <td>2017</td>\n",
       "      <td>12</td>\n",
       "      <td>2124</td>\n",
       "    </tr>\n",
       "    <tr>\n",
       "      <th>36</th>\n",
       "      <td>2018</td>\n",
       "      <td>1</td>\n",
       "      <td>2123</td>\n",
       "    </tr>\n",
       "  </tbody>\n",
       "</table>\n",
       "</div>"
      ],
      "text/plain": [
       "    order_year  order_month  Order Item Quantity\n",
       "32        2017            9                10502\n",
       "33        2017           10                 2490\n",
       "34        2017           11                 2055\n",
       "35        2017           12                 2124\n",
       "36        2018            1                 2123"
      ]
     },
     "execution_count": 18,
     "metadata": {},
     "output_type": "execute_result"
    }
   ],
   "source": [
    "# Feature engineering: Extracting date features from the data'\n",
    "\n",
    "# For order date\n",
    "data_trans['order_year'] = data_trans['order date (DateOrders)'].dt.year\n",
    "data_trans['order_month'] = data_trans['order date (DateOrders)'].dt.month\n",
    "\n",
    "# Display the dataframe with the new features\n",
    "pre_aggregated_data = data_trans.groupby(['order_year', 'order_month'])['Order Item Quantity'].sum().reset_index()\n",
    "\n",
    "aggregated_data = pre_aggregated_data[pre_aggregated_data['order_year'] != 2018]\n",
    "\n",
    "# Create a proper datetime index for the aggregated data\n",
    "aggregated_data['date'] = pd.to_datetime(aggregated_data['order_year'].astype(str) + '-' + aggregated_data['order_month'].astype(str))\n",
    "\n",
    "# Sort the data by date to ensure it's in chronological order\n",
    "aggregated_data = aggregated_data.sort_values('date')\n",
    "\n",
    "pre_aggregated_data.tail()\n",
    "\n"
   ]
  },
  {
   "cell_type": "code",
   "execution_count": 20,
   "metadata": {},
   "outputs": [
    {
     "data": {
      "text/plain": [
       "date\n",
       "2015-01-01    11854\n",
       "2015-02-01    10438\n",
       "2015-03-01    12062\n",
       "2015-04-01    11287\n",
       "2015-05-01    11902\n",
       "2015-06-01    11203\n",
       "2015-07-01    11800\n",
       "2015-08-01    11612\n",
       "2015-09-01    11366\n",
       "2015-10-01    11703\n",
       "2015-11-01    11463\n",
       "2015-12-01    11790\n",
       "2016-01-01    11597\n",
       "2016-02-01    10765\n",
       "2016-03-01    11349\n",
       "2016-04-01    11208\n",
       "2016-05-01    11603\n",
       "2016-06-01    11008\n",
       "2016-07-01    11652\n",
       "2016-08-01    11683\n",
       "2016-09-01    11284\n",
       "2016-10-01    11936\n",
       "2016-11-01    11493\n",
       "2016-12-01    11774\n",
       "2017-01-01    11605\n",
       "2017-02-01    11070\n",
       "2017-03-01    11676\n",
       "2017-04-01    11189\n",
       "2017-05-01    11033\n",
       "2017-06-01    10194\n",
       "2017-07-01    11091\n",
       "2017-08-01    11095\n",
       "2017-09-01    10502\n",
       "2017-10-01     2490\n",
       "2017-11-01     2055\n",
       "2017-12-01     2124\n",
       "Name: Order Item Quantity, dtype: int64"
      ]
     },
     "execution_count": 20,
     "metadata": {},
     "output_type": "execute_result"
    }
   ],
   "source": [
    "# The final series for forecasting\n",
    "y = aggregated_data.set_index('date')['Order Item Quantity']\n",
    "y"
   ]
  },
  {
   "cell_type": "code",
   "execution_count": 21,
   "metadata": {},
   "outputs": [],
   "source": [
    "# Determine the split point, usually a percentage of the total data\n",
    "split_point = int(len(y) * 0.7)  # For instance, 80% for training, 20% for testing\n",
    "\n",
    "# Split the data\n",
    "y_train = y[:split_point]\n",
    "y_test = y[split_point:]\n"
   ]
  },
  {
   "cell_type": "markdown",
   "metadata": {},
   "source": [
    "### Time Series Foreacast"
   ]
  },
  {
   "cell_type": "code",
   "execution_count": 22,
   "metadata": {},
   "outputs": [
    {
     "name": "stderr",
     "output_type": "stream",
     "text": [
      "/home/keembo/miniconda3/envs/mlprocess_venv/lib/python3.10/site-packages/statsmodels/tsa/base/tsa_model.py:473: ValueWarning: No frequency information was provided, so inferred frequency MS will be used.\n",
      "  self._init_dates(dates, freq)\n",
      "/home/keembo/miniconda3/envs/mlprocess_venv/lib/python3.10/site-packages/statsmodels/tsa/base/tsa_model.py:473: ValueWarning: No frequency information was provided, so inferred frequency MS will be used.\n",
      "  self._init_dates(dates, freq)\n",
      "/home/keembo/miniconda3/envs/mlprocess_venv/lib/python3.10/site-packages/statsmodels/tsa/base/tsa_model.py:473: ValueWarning: No frequency information was provided, so inferred frequency MS will be used.\n",
      "  self._init_dates(dates, freq)\n"
     ]
    }
   ],
   "source": [
    "from statsmodels.tsa.arima.model import ARIMA\n",
    "\n",
    "# Define the ARIMA model with some initial p, d, q values\n",
    "# Note: You might want to use auto_arima or another method to find optimal parameters\n",
    "model = ARIMA(y_train, order=(1,0,0))  # Example order, adjust based on your data\n",
    "\n",
    "# Fit the model\n",
    "fitted_model = model.fit()"
   ]
  },
  {
   "cell_type": "code",
   "execution_count": 23,
   "metadata": {},
   "outputs": [
    {
     "data": {
      "text/plain": [
       "2017-02-01    11439.929270\n",
       "2017-03-01    11514.977739\n",
       "2017-04-01    11480.857379\n",
       "2017-05-01    11496.370007\n",
       "2017-06-01    11489.317279\n",
       "2017-07-01    11492.523762\n",
       "2017-08-01    11491.065953\n",
       "2017-09-01    11491.728737\n",
       "2017-10-01    11491.427406\n",
       "2017-11-01    11491.564404\n",
       "2017-12-01    11491.502119\n",
       "Freq: MS, Name: predicted_mean, dtype: float64"
      ]
     },
     "execution_count": 23,
     "metadata": {},
     "output_type": "execute_result"
    }
   ],
   "source": [
    "# Making predictions\n",
    "predictions = fitted_model.forecast(steps=len(y_test))\n",
    "\n",
    "# The predictions are for the period in y_test\n",
    "predictions"
   ]
  },
  {
   "cell_type": "code",
   "execution_count": 24,
   "metadata": {},
   "outputs": [
    {
     "name": "stdout",
     "output_type": "stream",
     "text": [
      "Mean Absolute Error: 2924.9371433942156\n",
      "Root Mean Square Error: 4873.515688013013\n"
     ]
    }
   ],
   "source": [
    "from sklearn.metrics import mean_squared_error, mean_absolute_error\n",
    "\n",
    "# Calculate error metrics\n",
    "mae = mean_absolute_error(y_test, predictions)\n",
    "rmse = mean_squared_error(y_test, predictions, squared=False)\n",
    "\n",
    "print(f\"Mean Absolute Error: {mae}\")\n",
    "print(f\"Root Mean Square Error: {rmse}\")"
   ]
  },
  {
   "cell_type": "code",
   "execution_count": 25,
   "metadata": {},
   "outputs": [
    {
     "data": {
      "image/png": "[encoded data removed]",
      "text/plain": [
       "<Figure size 1000x600 with 1 Axes>"
      ]
     },
     "metadata": {},
     "output_type": "display_data"
    }
   ],
   "source": [
    "import matplotlib.pyplot as plt\n",
    "\n",
    "# Plotting actual vs predicted values\n",
    "plt.figure(figsize=(10,6))\n",
    "plt.plot(y_test.index, y_test, label='Actual')\n",
    "plt.plot(y_test.index, predictions, label='Predicted', color='red')\n",
    "plt.title('Actual vs Predicted')\n",
    "plt.xlabel('Date')\n",
    "plt.ylabel('Order Item Quantity')\n",
    "plt.legend()\n",
    "plt.show()"
   ]
  },
  {
   "cell_type": "code",
   "execution_count": 36,
   "metadata": {},
   "outputs": [
    {
     "name": "stdout",
     "output_type": "stream",
     "text": [
      "RUNNING THE L-BFGS-B CODE\n",
      "\n",
      "           * * *\n",
      "\n",
      "Machine precision = 2.220D-16\n",
      " N =            3     M =           10\n",
      "\n",
      "At X0         0 variables are exactly at the bounds\n",
      "\n",
      "At iterate    0    f=  3.68166D+00    |proj g|=  2.48260D-01\n",
      "\n",
      "At iterate    5    f=  3.65834D+00    |proj g|=  3.08244D-01\n",
      "\n",
      "           * * *\n",
      "\n",
      "Tit   = total number of iterations\n",
      "Tnf   = total number of function evaluations\n",
      "Tnint = total number of segments explored during Cauchy searches\n",
      "Skip  = number of BFGS updates skipped\n",
      "Nact  = number of active bounds at final generalized Cauchy point\n",
      "Projg = norm of the final projected gradient\n",
      "F     = final function value\n",
      "\n",
      "           * * *\n",
      "\n",
      "   N    Tit     Tnf  Tnint  Skip  Nact     Projg        F\n",
      "    3      8     12      1     0     0   3.834D-04   3.658D+00\n",
      "  F =   3.6578985749864654     \n",
      "\n",
      "CONVERGENCE: REL_REDUCTION_OF_F_<=_FACTR*EPSMCH             \n",
      "                                      SARIMAX Results                                       \n",
      "============================================================================================\n",
      "Dep. Variable:                  Order Item Quantity   No. Observations:                   25\n",
      "Model:             SARIMAX(1, 0, 0)x(0, 0, [1], 12)   Log Likelihood                 -91.447\n",
      "Date:                              Sun, 07 Jan 2024   AIC                            188.895\n",
      "Time:                                      15:01:52   BIC                            190.350\n",
      "Sample:                                  01-01-2015   HQIC                           188.356\n",
      "                                       - 01-01-2017                                         \n",
      "Covariance Type:                                opg                                         \n",
      "==============================================================================\n",
      "                 coef    std err          z      P>|z|      [0.025      0.975]\n",
      "------------------------------------------------------------------------------\n",
      "ar.L1          0.9995      0.032     31.600      0.000       0.937       1.061\n",
      "ma.S.L12       0.4056      1.479      0.274      0.784      -2.494       3.305\n",
      "sigma2      4.052e+05   4.46e+05      0.909      0.363   -4.69e+05    1.28e+06\n",
      "===================================================================================\n",
      "Ljung-Box (L1) (Q):                   6.69   Jarque-Bera (JB):                 0.86\n",
      "Prob(Q):                              0.01   Prob(JB):                         0.65\n",
      "Heteroskedasticity (H):               0.89   Skew:                            -0.06\n",
      "Prob(H) (two-sided):                  0.92   Kurtosis:                         1.70\n",
      "===================================================================================\n",
      "\n",
      "Warnings:\n",
      "[1] Covariance matrix calculated using the outer product of gradients (complex-step).\n"
     ]
    },
    {
     "name": "stderr",
     "output_type": "stream",
     "text": [
      "/home/keembo/miniconda3/envs/mlprocess_venv/lib/python3.10/site-packages/statsmodels/tsa/base/tsa_model.py:473: ValueWarning: No frequency information was provided, so inferred frequency MS will be used.\n",
      "  self._init_dates(dates, freq)\n",
      "/home/keembo/miniconda3/envs/mlprocess_venv/lib/python3.10/site-packages/statsmodels/tsa/base/tsa_model.py:473: ValueWarning: No frequency information was provided, so inferred frequency MS will be used.\n",
      "  self._init_dates(dates, freq)\n",
      "/home/keembo/miniconda3/envs/mlprocess_venv/lib/python3.10/site-packages/statsmodels/tsa/statespace/sarimax.py:866: UserWarning: Too few observations to estimate starting parameters for seasonal ARMA. All parameters except for variances will be set to zeros.\n",
      "  warn('Too few observations to estimate starting parameters%s.'\n",
      " This problem is unconstrained.\n"
     ]
    }
   ],
   "source": [
    "import statsmodels.api as sm\n",
    "\n",
    "# Define the SARIMA model\n",
    "# Let's say your data has a yearly seasonality with monthly data, hence s=12\n",
    "# The order (p, d, q) and seasonal_order (P, D, Q, s) should be determined based on your specific dataset\n",
    "sarima_model = sm.tsa.statespace.SARIMAX(y_train,\n",
    "                                            order=(1, 0, 0),\n",
    "                                            seasonal_order=(0, 0, 1, 12),\n",
    "                                            enforce_stationarity=False,\n",
    "                                            enforce_invertibility=False)\n",
    "\n",
    "fitted_model = sarima_model.fit()\n",
    "\n",
    "print(fitted_model.summary())"
   ]
  },
  {
   "cell_type": "code",
   "execution_count": 33,
   "metadata": {},
   "outputs": [
    {
     "data": {
      "text/plain": [
       "2017-02-01    10762.872184\n",
       "2017-03-01    11350.637805\n",
       "2017-04-01    11208.371117\n",
       "2017-05-01    11603.757465\n",
       "2017-06-01    11008.652713\n",
       "2017-07-01    11652.676362\n",
       "2017-08-01    11683.672965\n",
       "2017-09-01    11284.672500\n",
       "2017-10-01    11936.673171\n",
       "2017-11-01    11493.672797\n",
       "2017-12-01    11774.672960\n",
       "Freq: MS, Name: predicted_mean, dtype: float64"
      ]
     },
     "execution_count": 33,
     "metadata": {},
     "output_type": "execute_result"
    }
   ],
   "source": [
    "# Make predictions for the same interval as y_test\n",
    "start = len(y_train)\n",
    "end = start + len(y_test) - 1  # -1 because Python is zero-indexed\n",
    "\n",
    "# Generate predictions\n",
    "predictions = fitted_model.predict(start=start, end=end, dynamic=True)\n",
    "predictions"
   ]
  },
  {
   "cell_type": "code",
   "execution_count": 37,
   "metadata": {},
   "outputs": [
    {
     "name": "stdout",
     "output_type": "stream",
     "text": [
      "Mean Absolute Error: 2955.119278256934\n",
      "Root Mean Square Error: 4990.247266745565\n"
     ]
    }
   ],
   "source": [
    "from sklearn.metrics import mean_squared_error, mean_absolute_error\n",
    "\n",
    "# Calculate error metrics\n",
    "mae = mean_absolute_error(y_test, predictions)\n",
    "rmse = mean_squared_error(y_test, predictions, squared=False)\n",
    "\n",
    "print(f'Mean Absolute Error: {mae}')\n",
    "print(f'Root Mean Square Error: {rmse}')"
   ]
  },
  {
   "cell_type": "code",
   "execution_count": 41,
   "metadata": {},
   "outputs": [
    {
     "data": {
      "image/png": "[encoded data removed]",
      "text/plain": [
       "<Figure size 1000x600 with 1 Axes>"
      ]
     },
     "metadata": {},
     "output_type": "display_data"
    }
   ],
   "source": [
    "import matplotlib.pyplot as plt\n",
    "\n",
    "# Plot the predictions along with the actual values\n",
    "plt.figure(figsize=(10, 6))\n",
    "plt.plot(y_train.index, y_train, label='Train')\n",
    "plt.plot(y_test.index, y_test, label='Test')\n",
    "plt.plot(y_test.index, predictions, label='SARIMA Predictions')\n",
    "plt.xlabel('Date')\n",
    "plt.ylabel('Order Item Quantity')\n",
    "plt.title('SARIMA Forecast vs Actuals')\n",
    "plt.legend()\n",
    "plt.show()\n"
   ]
  },
  {
   "cell_type": "markdown",
   "metadata": {},
   "source": [
    "### Test Predictions"
   ]
  },
  {
   "cell_type": "code",
   "execution_count": 40,
   "metadata": {},
   "outputs": [
    {
     "name": "stdout",
     "output_type": "stream",
     "text": [
      "Forecasted Quantity for 5 / 2022 : 11319.241290857542\n"
     ]
    }
   ],
   "source": [
    "model = fitted_model\n",
    "\n",
    "def input_data(month, year):\n",
    "    input_data = pd.DataFrame(\n",
    "        {\n",
    "            'order_year': [year],\n",
    "            'order_month': [month]\n",
    "        }\n",
    "    )\n",
    "    input_data = pd.DataFrame(input_data, columns=['order_year', 'order_month'])\n",
    "    return input_data\n",
    "\n",
    "def make_predictions(model, new_month, new_year):\n",
    "    input_data_time = pd.to_datetime(f\"{new_year}-{new_month}-01\") \n",
    "    months_ahead = (input_data_time.year - 2017) * 12 + input_data_time.month - 12\n",
    "    \n",
    "    start = len(model.model.endog)\n",
    "    end = start + months_ahead - 1\n",
    "    \n",
    "    predictions = model.predict(start=start, end=end, dynamic=False)\n",
    "    predictions = predictions.iloc[-1]\n",
    "    return predictions\n",
    "\n",
    "# Input\n",
    "new_month, new_year = 5,2022\n",
    "input_features = input_data(new_month, new_year)\n",
    "forecasted_quantity = make_predictions(model, new_month, new_year)\n",
    "print(\"Forecasted Quantity for\", new_month, \"/\", new_year, \":\", forecasted_quantity)"
   ]
  },
  {
   "cell_type": "code",
   "execution_count": 31,
   "metadata": {},
   "outputs": [
    {
     "name": "stdout",
     "output_type": "stream",
     "text": [
      "Performing stepwise search to minimize aic\n",
      " ARIMA(0,0,0)(0,0,0)[6] intercept   : AIC=370.465, Time=0.02 sec\n",
      " ARIMA(1,0,0)(1,0,0)[6] intercept   : AIC=367.938, Time=0.15 sec\n",
      " ARIMA(0,0,1)(0,0,1)[6] intercept   : AIC=368.593, Time=0.08 sec\n",
      " ARIMA(0,0,0)(0,0,0)[6]             : AIC=540.467, Time=0.01 sec\n",
      " ARIMA(1,0,0)(0,0,0)[6] intercept   : AIC=366.673, Time=0.02 sec\n",
      " ARIMA(1,0,0)(0,0,1)[6] intercept   : AIC=366.854, Time=0.04 sec\n",
      " ARIMA(1,0,0)(1,0,1)[6] intercept   : AIC=368.853, Time=0.16 sec\n",
      " ARIMA(2,0,0)(0,0,0)[6] intercept   : AIC=369.284, Time=0.06 sec\n",
      " ARIMA(1,0,1)(0,0,0)[6] intercept   : AIC=369.258, Time=0.05 sec\n",
      " ARIMA(0,0,1)(0,0,0)[6] intercept   : AIC=368.514, Time=0.03 sec\n",
      " ARIMA(2,0,1)(0,0,0)[6] intercept   : AIC=370.828, Time=0.08 sec\n",
      " ARIMA(1,0,0)(0,0,0)[6]             : AIC=inf, Time=0.01 sec\n",
      "\n",
      "Best model:  ARIMA(1,0,0)(0,0,0)[6] intercept\n",
      "Total fit time: 0.730 seconds\n",
      "                               SARIMAX Results                                \n",
      "==============================================================================\n",
      "Dep. Variable:                      y   No. Observations:                   25\n",
      "Model:               SARIMAX(1, 0, 0)   Log Likelihood                -180.336\n",
      "Date:                Sun, 07 Jan 2024   AIC                            366.673\n",
      "Time:                        15:01:14   BIC                            370.329\n",
      "Sample:                    01-01-2015   HQIC                           367.687\n",
      "                         - 01-01-2017                                         \n",
      "Covariance Type:                  opg                                         \n",
      "==============================================================================\n",
      "                 coef    std err          z      P>|z|      [0.025      0.975]\n",
      "------------------------------------------------------------------------------\n",
      "intercept   1.671e+04   2649.075      6.309      0.000    1.15e+04    2.19e+04\n",
      "ar.L1         -0.4543      0.232     -1.957      0.050      -0.909       0.001\n",
      "sigma2       1.07e+05   4.56e+04      2.345      0.019    1.76e+04    1.96e+05\n",
      "===================================================================================\n",
      "Ljung-Box (L1) (Q):                   0.14   Jarque-Bera (JB):                 6.38\n",
      "Prob(Q):                              0.71   Prob(JB):                         0.04\n",
      "Heteroskedasticity (H):               0.52   Skew:                            -1.20\n",
      "Prob(H) (two-sided):                  0.37   Kurtosis:                         3.59\n",
      "===================================================================================\n",
      "\n",
      "Warnings:\n",
      "[1] Covariance matrix calculated using the outer product of gradients (complex-step).\n"
     ]
    }
   ],
   "source": [
    "from pmdarima.arima import auto_arima\n",
    "\n",
    "# Assuming y_train is your training time series\n",
    "auto_model = auto_arima(y_train, \n",
    "                        start_p=0, start_q=0,  # Initial guess for p, q\n",
    "                        max_p=3, max_q=3,      # Maximum p, q\n",
    "                        seasonal=True, m=6,        # Change to True if your data is seasonal\n",
    "                        start_P=0, start_Q=0, max_P=2, max_Q=2,\n",
    "                        information_criterion='aic',\n",
    "                        trace=True,            # Print the fitting process\n",
    "                        error_action='ignore', # Don't want to know if an order does not work\n",
    "                        suppress_warnings=True,# Suppress warnings\n",
    "                        stepwise=True)         # Stepwise search to find the best model\n",
    "\n",
    "print(auto_model.summary())\n"
   ]
  }
 ],
 "metadata": {
  "kernelspec": {
   "display_name": "Python 3",
   "language": "python",
   "name": "python3"
  },
  "language_info": {
   "codemirror_mode": {
    "name": "ipython",
    "version": 3
   },
   "file_extension": ".py",
   "mimetype": "text/x-python",
   "name": "python",
   "nbconvert_exporter": "python",
   "pygments_lexer": "ipython3",
   "version": "3.10.13"
  }
 },
 "nbformat": 4,
 "nbformat_minor": 2
}
